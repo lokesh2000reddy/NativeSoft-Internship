{
 "cells": [
  {
   "cell_type": "code",
   "execution_count": null,
   "id": "805cb26f-2058-45d1-a1a6-f341a3dfe1ad",
   "metadata": {},
   "outputs": [
    {
     "name": "stdout",
     "output_type": "stream",
     "text": [
      "\n",
      "To-Do List Manager:\n",
      "1. Add Task\n",
      "2. List Tasks\n",
      "3. Mark Task as Completed\n",
      "4. Delete Task\n",
      "5. Exit\n"
     ]
    },
    {
     "name": "stdin",
     "output_type": "stream",
     "text": [
      "Enter your choice:  1\n",
      "Enter task description:  Finish project documentation\n"
     ]
    },
    {
     "name": "stdout",
     "output_type": "stream",
     "text": [
      "Task added: Finish project documentation\n",
      "\n",
      "To-Do List Manager:\n",
      "1. Add Task\n",
      "2. List Tasks\n",
      "3. Mark Task as Completed\n",
      "4. Delete Task\n",
      "5. Exit\n"
     ]
    },
    {
     "name": "stdin",
     "output_type": "stream",
     "text": [
      "Enter your choice:  2\n"
     ]
    },
    {
     "name": "stdout",
     "output_type": "stream",
     "text": [
      "\n",
      "To-Do List:\n",
      "1. Finish project documentation [Pending]\n",
      "\n",
      "To-Do List Manager:\n",
      "1. Add Task\n",
      "2. List Tasks\n",
      "3. Mark Task as Completed\n",
      "4. Delete Task\n",
      "5. Exit\n"
     ]
    },
    {
     "name": "stdin",
     "output_type": "stream",
     "text": [
      "Enter your choice:  3\n",
      "Enter task ID to mark as completed:  4\n"
     ]
    },
    {
     "name": "stdout",
     "output_type": "stream",
     "text": [
      "Task with ID 4 not found.\n",
      "\n",
      "To-Do List Manager:\n",
      "1. Add Task\n",
      "2. List Tasks\n",
      "3. Mark Task as Completed\n",
      "4. Delete Task\n",
      "5. Exit\n"
     ]
    },
    {
     "name": "stdin",
     "output_type": "stream",
     "text": [
      "Enter your choice:  3\n",
      "Enter task ID to mark as completed:  3\n"
     ]
    },
    {
     "name": "stdout",
     "output_type": "stream",
     "text": [
      "Task with ID 3 not found.\n",
      "\n",
      "To-Do List Manager:\n",
      "1. Add Task\n",
      "2. List Tasks\n",
      "3. Mark Task as Completed\n",
      "4. Delete Task\n",
      "5. Exit\n"
     ]
    },
    {
     "name": "stdin",
     "output_type": "stream",
     "text": [
      "Enter your choice:  3\n",
      "Enter task ID to mark as completed:  2\n"
     ]
    },
    {
     "name": "stdout",
     "output_type": "stream",
     "text": [
      "Task with ID 2 not found.\n",
      "\n",
      "To-Do List Manager:\n",
      "1. Add Task\n",
      "2. List Tasks\n",
      "3. Mark Task as Completed\n",
      "4. Delete Task\n",
      "5. Exit\n"
     ]
    },
    {
     "name": "stdin",
     "output_type": "stream",
     "text": [
      "Enter your choice:  3\n",
      "Enter task ID to mark as completed:  1\n"
     ]
    },
    {
     "name": "stdout",
     "output_type": "stream",
     "text": [
      "Task 1 marked as completed.\n",
      "\n",
      "To-Do List Manager:\n",
      "1. Add Task\n",
      "2. List Tasks\n",
      "3. Mark Task as Completed\n",
      "4. Delete Task\n",
      "5. Exit\n"
     ]
    },
    {
     "name": "stdin",
     "output_type": "stream",
     "text": [
      "Enter your choice:  4\n",
      "Enter task ID to delete:  1\n"
     ]
    },
    {
     "name": "stdout",
     "output_type": "stream",
     "text": [
      "Task 1 deleted.\n",
      "\n",
      "To-Do List Manager:\n",
      "1. Add Task\n",
      "2. List Tasks\n",
      "3. Mark Task as Completed\n",
      "4. Delete Task\n",
      "5. Exit\n"
     ]
    }
   ],
   "source": [
    "import json\n",
    "import os\n",
    "\n",
    "# File to store tasks\n",
    "TASKS_FILE = \"tasks.json\"\n",
    "\n",
    "def load_tasks():\n",
    "    \"\"\"Load tasks from the JSON file.\"\"\"\n",
    "    if not os.path.exists(TASKS_FILE):\n",
    "        return []\n",
    "    with open(TASKS_FILE, \"r\") as file:\n",
    "        return json.load(file)\n",
    "\n",
    "def save_tasks(tasks):\n",
    "    \"\"\"Save tasks to the JSON file.\"\"\"\n",
    "    with open(TASKS_FILE, \"w\") as file:\n",
    "        json.dump(tasks, file, indent=4)\n",
    "\n",
    "def add_task(description):\n",
    "    \"\"\"Add a new task to the list.\"\"\"\n",
    "    tasks = load_tasks()\n",
    "    task_id = len(tasks) + 1\n",
    "    tasks.append({\"id\": task_id, \"description\": description, \"completed\": False})\n",
    "    save_tasks(tasks)\n",
    "    print(f\"Task added: {description}\")\n",
    "\n",
    "def list_tasks():\n",
    "    \"\"\"List all tasks.\"\"\"\n",
    "    tasks = load_tasks()\n",
    "    if not tasks:\n",
    "        print(\"No tasks found.\")\n",
    "        return\n",
    "    print(\"\\nTo-Do List:\")\n",
    "    for task in tasks:\n",
    "        status = \"Completed\" if task[\"completed\"] else \"Pending\"\n",
    "        print(f\"{task['id']}. {task['description']} [{status}]\")\n",
    "\n",
    "def update_task(task_id):\n",
    "    \"\"\"Mark a task as completed.\"\"\"\n",
    "    tasks = load_tasks()\n",
    "    for task in tasks:\n",
    "        if task[\"id\"] == task_id:\n",
    "            task[\"completed\"] = True\n",
    "            save_tasks(tasks)\n",
    "            print(f\"Task {task_id} marked as completed.\")\n",
    "            return\n",
    "    print(f\"Task with ID {task_id} not found.\")\n",
    "\n",
    "def delete_task(task_id):\n",
    "    \"\"\"Delete a task by ID.\"\"\"\n",
    "    tasks = load_tasks()\n",
    "    tasks = [task for task in tasks if task[\"id\"] != task_id]\n",
    "    save_tasks(tasks)\n",
    "    print(f\"Task {task_id} deleted.\")\n",
    "\n",
    "# Interactive Menu for Jupyter Notebook\n",
    "def todo_list_manager():\n",
    "    \"\"\"Interactive menu to manage tasks.\"\"\"\n",
    "    while True:\n",
    "        print(\"\\nTo-Do List Manager:\")\n",
    "        print(\"1. Add Task\")\n",
    "        print(\"2. List Tasks\")\n",
    "        print(\"3. Mark Task as Completed\")\n",
    "        print(\"4. Delete Task\")\n",
    "        print(\"5. Exit\")\n",
    "        choice = input(\"Enter your choice: \")\n",
    "\n",
    "        if choice == \"1\":\n",
    "            description = input(\"Enter task description: \")\n",
    "            add_task(description)\n",
    "        elif choice == \"2\":\n",
    "            list_tasks()\n",
    "        elif choice == \"3\":\n",
    "            try:\n",
    "                task_id = int(input(\"Enter task ID to mark as completed: \"))\n",
    "                update_task(task_id)\n",
    "            except ValueError:\n",
    "                print(\"Invalid input. Task ID must be a number.\")\n",
    "        elif choice == \"4\":\n",
    "            try:\n",
    "                task_id = int(input(\"Enter task ID to delete: \"))\n",
    "                delete_task(task_id)\n",
    "            except ValueError:\n",
    "                print(\"Invalid input. Task ID must be a number.\")\n",
    "        elif choice == \"5\":\n",
    "            print(\"Exiting To-Do List Manager.\")\n",
    "            break\n",
    "        else:\n",
    "            print(\"Invalid choice. Please try again.\")\n",
    "\n",
    "# Run the interactive menu\n",
    "todo_list_manager()\n"
   ]
  },
  {
   "cell_type": "markdown",
   "id": "6f11a642-4a95-4773-af65-e6a9b97fb1ef",
   "metadata": {},
   "source": []
  }
 ],
 "metadata": {
  "kernelspec": {
   "display_name": "Python 3 (ipykernel)",
   "language": "python",
   "name": "python3"
  },
  "language_info": {
   "codemirror_mode": {
    "name": "ipython",
    "version": 3
   },
   "file_extension": ".py",
   "mimetype": "text/x-python",
   "name": "python",
   "nbconvert_exporter": "python",
   "pygments_lexer": "ipython3",
   "version": "3.12.7"
  }
 },
 "nbformat": 4,
 "nbformat_minor": 5
}
